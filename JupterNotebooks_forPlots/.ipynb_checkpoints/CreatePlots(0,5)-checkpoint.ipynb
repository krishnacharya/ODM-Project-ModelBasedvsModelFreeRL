{
 "cells": [
  {
   "cell_type": "code",
   "execution_count": 1,
   "metadata": {},
   "outputs": [],
   "source": [
    "import pickle\n",
    "import numpy as np\n",
    "import matplotlib.pyplot as plt"
   ]
  },
  {
   "cell_type": "code",
   "execution_count": 2,
   "metadata": {},
   "outputs": [],
   "source": [
    "def get_mean_acrosslots(tab):\n",
    "    '''\n",
    "        tab stores perrslot reward\n",
    "    '''\n",
    "    return np.mean(np.cumsum(tab, axis=1), axis=0)"
   ]
  },
  {
   "cell_type": "code",
   "execution_count": 3,
   "metadata": {},
   "outputs": [],
   "source": [
    "def get_mean_var(tab):\n",
    "    sums = np.sum(tab, axis=1)\n",
    "    return sums.mean(), sums.std()"
   ]
  },
  {
   "cell_type": "code",
   "execution_count": 4,
   "metadata": {},
   "outputs": [],
   "source": [
    "T = 10000\n",
    "time_slots = np.arange(T)"
   ]
  },
  {
   "cell_type": "code",
   "execution_count": 6,
   "metadata": {},
   "outputs": [],
   "source": [
    "with open(\"FI-discrete50sims(0,5).pickle\", \"rb\") as f:\n",
    "     tabFIopt,tabFIsimple = pickle.load(f) "
   ]
  },
  {
   "cell_type": "code",
   "execution_count": 7,
   "metadata": {},
   "outputs": [],
   "source": [
    "with open(\"PSRL50sims(0,5).pickle\",\"rb\") as f2:\n",
    "    tabPSRL = pickle.load(f2)\n",
    "with open(\"UCRL50sims(0,5).pickle\",\"rb\") as f3:\n",
    "    tabUCRL = pickle.load(f3)"
   ]
  },
  {
   "cell_type": "code",
   "execution_count": 8,
   "metadata": {},
   "outputs": [],
   "source": [
    "with open(\"QL50sims(0,5).pickle\", \"rb\") as f4:\n",
    "    tabQL = pickle.load(f4)\n",
    "with open(\"sarsa50sims(0,5).pickle\", \"rb\") as f6:\n",
    "    tabsarsa = pickle.load(f6)\n",
    "with open(\"ExpSarsa50sims(0,5).pickle\",\"rb\") as f7:\n",
    "    tabExpsarsa = pickle.load(f7)    "
   ]
  },
  {
   "cell_type": "code",
   "execution_count": 9,
   "metadata": {},
   "outputs": [
    {
     "name": "stdout",
     "output_type": "stream",
     "text": [
      "(840.2924, 5.7134219378582625)\n",
      "(1.7716, 0.07508288753104796)\n"
     ]
    }
   ],
   "source": [
    "print(get_mean_var(tabFIopt))\n",
    "print(get_mean_var(tabFIsimple))"
   ]
  },
  {
   "cell_type": "code",
   "execution_count": 11,
   "metadata": {},
   "outputs": [],
   "source": [
    "cumutilFIopt_mean = get_mean_acrosslots(tabFIopt)\n",
    "cumutilsimple_mean = get_mean_acrosslots(tabFIsimple)\n",
    "\n",
    "cumutilPSRL_mean = get_mean_acrosslots(tabPSRL)\n",
    "cumutilUCRL_mean = get_mean_acrosslots(tabUCRL)\n",
    "\n",
    "cumutilQL_mean = get_mean_acrosslots(tabQL)\n",
    "cumutilsarsa_mean = get_mean_acrosslots(tabsarsa)\n",
    "cumutilExpsarsa_mean = get_mean_acrosslots(tabExpsarsa)"
   ]
  },
  {
   "cell_type": "code",
   "execution_count": 45,
   "metadata": {},
   "outputs": [
    {
     "data": {
      "text/plain": [
       "[<matplotlib.lines.Line2D at 0x1b8ca270880>]"
      ]
     },
     "execution_count": 45,
     "metadata": {},
     "output_type": "execute_result"
    }
   ],
   "source": [
    "%matplotlib qt\n",
    "# plt.plot(time_slots, cumutilFIopt_mean)\n",
    "mark_interval = 100\n",
    "plt.plot(time_slots, cumutilFIopt_mean, color='green', linestyle='dashed', markersize=1, markevery=mark_interval)\n",
    "plt.plot(time_slots, cumutilsimple_mean,color='brown', linestyle='dashed', markersize=1, markevery=mark_interval)\n",
    "\n",
    "plt.plot(time_slots, cumutilPSRL_mean,color='blue', marker = 'o', markersize=1, markevery=mark_interval)\n",
    "plt.plot(time_slots,cumutilUCRL_mean, color='orange', markersize=1, markevery=mark_interval)\n",
    "\n",
    "plt.plot(time_slots, cumutilQL_mean,'r', markevery=mark_interval)\n",
    "plt.plot(time_slots, cumutilsarsa_mean,'y', markevery=mark_interval)\n",
    "plt.plot(time_slots, cumutilExpsarsa_mean,color='black', markevery=mark_interval)"
   ]
  },
  {
   "cell_type": "code",
   "execution_count": 30,
   "metadata": {},
   "outputs": [
    {
     "name": "stdout",
     "output_type": "stream",
     "text": [
      "1.7716000000000003\n"
     ]
    }
   ],
   "source": []
  },
  {
   "cell_type": "code",
   "execution_count": null,
   "metadata": {},
   "outputs": [],
   "source": [
    "%matplotlib qt\n",
    "# plt.plot(time_slots, cumutilFIopt_mean)\n",
    "plt.plot(time_slots, cumutilFIopt_mean, 'g--', markevery=mark_interval)\n",
    "plt.plot(time_slots, cumutilsimple_mean,'navy', markevery=mark_interval)\n",
    "\n",
    "plt.plot(time_slots, cumutilPSRL_mean,'b', markevery=mark_interval)\n",
    "plt.plot(time_slots,cumutilUCRL_mean, 'c', markevery=mark_interval)\n",
    "\n",
    "plt.plot(time_slots, cumutilQL_mean,'r', markevery=mark_interval)\n",
    "plt.plot(time_slots, cumutilsarsa_mean,'y', markevery=mark_interval)\n",
    "plt.plot(time_slots, cumutilExpsarsa_mean,'k', markevery=mark_interval)"
   ]
  },
  {
   "cell_type": "code",
   "execution_count": 44,
   "metadata": {},
   "outputs": [],
   "source": [
    "reg_PSRL = cumutilFIopt_mean -  cumutilPSRL_mean\n",
    "reg_UCRL2 = cumutilFIopt_mean - cumutilUCRL_mean"
   ]
  },
  {
   "cell_type": "code",
   "execution_count": 48,
   "metadata": {},
   "outputs": [
    {
     "data": {
      "text/plain": [
       "[<matplotlib.lines.Line2D at 0x1b8c6bcce80>]"
      ]
     },
     "execution_count": 48,
     "metadata": {},
     "output_type": "execute_result"
    }
   ],
   "source": [
    "%matplotlib qt\n",
    "mark_interval = 500\n",
    "plt.plot(time_slots, reg_PSRL, color='blue', markevery=mark_interval)\n",
    "plt.plot(time_slots, reg_UCRL2, color='orange', markevery=mark_interval)"
   ]
  },
  {
   "cell_type": "code",
   "execution_count": 9,
   "metadata": {},
   "outputs": [
    {
     "name": "stdout",
     "output_type": "stream",
     "text": [
      "[12.68  8.93 14.21  1.98 14.15 18.84 14.12  9.91  8.75 13.89 15.45  3.97\n",
      " 10.3  10.3  12.7   8.8  -1.64 24.25 19.47  9.47  7.93  3.98  2.15  3.64\n",
      "  9.69  6.53  4.35  0.79  8.14  6.3   6.06 11.7  15.28  6.92  7.5   2.68\n",
      "  0.32  8.92  5.43  8.85 15.23  8.79 -5.58 11.74  5.9   5.8  -2.35  4.88\n",
      "  7.08  1.01]\n"
     ]
    }
   ],
   "source": [
    "cumFI = np.cumsum(tabFIopt, axis=1)\n",
    "cumTSDE = np.cumsum(tabTSDE ,axis=1)\n",
    "endvals = cumFI[:,-1]-cumTSDE[:,-1]\n",
    "print(endvals)"
   ]
  }
 ],
 "metadata": {
  "kernelspec": {
   "display_name": "Python 3",
   "language": "python",
   "name": "python3"
  },
  "language_info": {
   "codemirror_mode": {
    "name": "ipython",
    "version": 3
   },
   "file_extension": ".py",
   "mimetype": "text/x-python",
   "name": "python",
   "nbconvert_exporter": "python",
   "pygments_lexer": "ipython3",
   "version": "3.8.8"
  }
 },
 "nbformat": 4,
 "nbformat_minor": 2
}
